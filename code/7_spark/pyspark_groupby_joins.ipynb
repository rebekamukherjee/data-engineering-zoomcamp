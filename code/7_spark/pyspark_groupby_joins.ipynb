{
 "cells": [
  {
   "cell_type": "code",
   "execution_count": 1,
   "metadata": {},
   "outputs": [],
   "source": [
    "# import libraries\n",
    "from pyspark.sql import SparkSession"
   ]
  },
  {
   "cell_type": "code",
   "execution_count": 2,
   "metadata": {},
   "outputs": [],
   "source": [
    "# create a spark session\n",
    "spark = SparkSession.builder \\\n",
    "    .master(\"local[*]\") \\\n",
    "    .appName('test') \\\n",
    "    .getOrCreate()\n",
    "\n",
    "# access the Spark UI by navigating to localhost:4040"
   ]
  },
  {
   "cell_type": "markdown",
   "metadata": {},
   "source": [
    "### GroupBy"
   ]
  },
  {
   "cell_type": "code",
   "execution_count": 3,
   "metadata": {},
   "outputs": [
    {
     "name": "stderr",
     "output_type": "stream",
     "text": [
      "c:\\Users\\rebek\\.virtualenvs\\data-engineering-zoomcamp-erqhPacM\\Lib\\site-packages\\pyspark\\sql\\dataframe.py:329: FutureWarning: Deprecated in 2.0, use createOrReplaceTempView instead.\n",
      "  warnings.warn(\"Deprecated in 2.0, use createOrReplaceTempView instead.\", FutureWarning)\n"
     ]
    }
   ],
   "source": [
    "# load green taxi trip data parquet files\n",
    "df_green = spark.read.parquet('data/pq/green/*/*')\n",
    "\n",
    "# register green taxi trip dataframe as a table\n",
    "df_green.registerTempTable('green')"
   ]
  },
  {
   "cell_type": "code",
   "execution_count": 4,
   "metadata": {},
   "outputs": [],
   "source": [
    "# execute a group by\n",
    "df_green_revenue = spark.sql(\"\"\"\n",
    "SELECT \n",
    "    date_trunc('hour', lpep_pickup_datetime) AS hour, \n",
    "    PULocationID AS zone,\n",
    "\n",
    "    SUM(total_amount) AS amount,\n",
    "    COUNT(1) AS number_records\n",
    "FROM\n",
    "    green\n",
    "WHERE\n",
    "    lpep_pickup_datetime >= '2020-01-01 00:00:00'\n",
    "GROUP BY\n",
    "    1, 2\n",
    "\"\"\")"
   ]
  },
  {
   "cell_type": "code",
   "execution_count": 5,
   "metadata": {},
   "outputs": [
    {
     "name": "stdout",
     "output_type": "stream",
     "text": [
      "+-------------------+----+------------------+--------------+\n",
      "|               hour|zone|            amount|number_records|\n",
      "+-------------------+----+------------------+--------------+\n",
      "|2020-01-01 03:00:00| 181|315.61000000000007|            14|\n",
      "|2020-01-05 01:00:00|  42|163.10000000000005|            14|\n",
      "|2020-01-06 13:00:00|  22|            337.62|             6|\n",
      "|2020-01-21 14:00:00|  33|            571.46|            29|\n",
      "|2020-01-06 14:00:00| 122|            110.26|             2|\n",
      "|2020-01-19 17:00:00|  41| 488.8400000000001|            38|\n",
      "|2020-01-08 09:00:00| 210|184.07999999999998|            10|\n",
      "|2020-01-23 21:00:00| 129| 84.77999999999999|             9|\n",
      "|2020-01-12 22:00:00| 181|284.01000000000005|            15|\n",
      "|2020-01-05 16:00:00|  97|498.45000000000016|            39|\n",
      "|2020-01-23 14:00:00| 185|             31.75|             2|\n",
      "|2020-01-20 13:00:00| 166| 318.9400000000001|            24|\n",
      "|2020-01-31 23:00:00|  76| 67.74000000000001|             2|\n",
      "|2020-01-13 23:00:00| 226|             69.65|             3|\n",
      "|2020-01-15 09:00:00| 235|108.08000000000001|             4|\n",
      "|2020-01-16 18:00:00|  82| 727.1499999999999|            54|\n",
      "|2020-01-15 20:00:00|  74| 738.8299999999998|            51|\n",
      "|2020-01-22 16:00:00| 152|             72.92|             5|\n",
      "|2020-01-08 18:00:00| 223|185.20000000000002|            20|\n",
      "|2020-01-17 11:00:00|  33|390.32000000000016|            22|\n",
      "+-------------------+----+------------------+--------------+\n",
      "only showing top 20 rows\n",
      "\n"
     ]
    }
   ],
   "source": [
    "# display the query results\n",
    "df_green_revenue.show()"
   ]
  },
  {
   "cell_type": "code",
   "execution_count": 6,
   "metadata": {},
   "outputs": [],
   "source": [
    "# parition and write the query results\n",
    "df_green_revenue \\\n",
    "    .repartition(20) \\\n",
    "    .write.parquet('data/report/revenue/green', mode='overwrite')"
   ]
  },
  {
   "cell_type": "code",
   "execution_count": 7,
   "metadata": {},
   "outputs": [],
   "source": [
    "# load yellow taxi trip data parquet files\n",
    "df_yellow = spark.read.parquet('data/pq/yellow/*/*')\n",
    "\n",
    "# register yellow taxi trip dataframe as a table\n",
    "df_yellow.registerTempTable('yellow')\n",
    "\n",
    "# execute a group by\n",
    "df_yellow_revenue = spark.sql(\"\"\"\n",
    "SELECT \n",
    "    date_trunc('hour', tpep_pickup_datetime) AS hour, \n",
    "    PULocationID AS zone,\n",
    "\n",
    "    SUM(total_amount) AS amount,\n",
    "    COUNT(1) AS number_records\n",
    "FROM\n",
    "    yellow\n",
    "WHERE\n",
    "    tpep_pickup_datetime >= '2020-01-01 00:00:00'\n",
    "GROUP BY\n",
    "    1, 2\n",
    "\"\"\")\n",
    "\n",
    "# parition and write the query results\n",
    "df_yellow_revenue \\\n",
    "    .repartition(20) \\\n",
    "    .write.parquet('data/report/revenue/yellow', mode='overwrite')"
   ]
  },
  {
   "cell_type": "markdown",
   "metadata": {},
   "source": [
    "### OrderBy"
   ]
  },
  {
   "cell_type": "code",
   "execution_count": 8,
   "metadata": {},
   "outputs": [
    {
     "name": "stdout",
     "output_type": "stream",
     "text": [
      "+-------------------+----+------------------+--------------+\n",
      "|               hour|zone|            amount|number_records|\n",
      "+-------------------+----+------------------+--------------+\n",
      "|2020-01-01 00:00:00|   7| 769.7299999999997|            45|\n",
      "|2020-01-01 00:00:00|  17|            195.03|             9|\n",
      "|2020-01-01 00:00:00|  18|               7.8|             1|\n",
      "|2020-01-01 00:00:00|  22|              15.8|             1|\n",
      "|2020-01-01 00:00:00|  24|              87.6|             3|\n",
      "|2020-01-01 00:00:00|  25|             531.0|            26|\n",
      "|2020-01-01 00:00:00|  29|              61.3|             1|\n",
      "|2020-01-01 00:00:00|  32| 68.94999999999999|             2|\n",
      "|2020-01-01 00:00:00|  33|            317.27|            11|\n",
      "|2020-01-01 00:00:00|  35|            129.96|             5|\n",
      "|2020-01-01 00:00:00|  36|295.34000000000003|            11|\n",
      "|2020-01-01 00:00:00|  37|175.67000000000002|             6|\n",
      "|2020-01-01 00:00:00|  38| 98.78999999999999|             2|\n",
      "|2020-01-01 00:00:00|  40|168.98000000000002|             8|\n",
      "|2020-01-01 00:00:00|  41| 1363.959999999999|            84|\n",
      "|2020-01-01 00:00:00|  42| 799.7599999999996|            52|\n",
      "|2020-01-01 00:00:00|  43|107.52000000000001|             6|\n",
      "|2020-01-01 00:00:00|  47|              13.3|             1|\n",
      "|2020-01-01 00:00:00|  49|            266.76|            14|\n",
      "|2020-01-01 00:00:00|  51|              17.8|             2|\n",
      "+-------------------+----+------------------+--------------+\n",
      "only showing top 20 rows\n",
      "\n"
     ]
    }
   ],
   "source": [
    "# execute a group by followed by order by\n",
    "df_green_revenue = spark.sql(\"\"\"\n",
    "SELECT \n",
    "    date_trunc('hour', lpep_pickup_datetime) AS hour, \n",
    "    PULocationID AS zone,\n",
    "\n",
    "    SUM(total_amount) AS amount,\n",
    "    COUNT(1) AS number_records\n",
    "FROM\n",
    "    green\n",
    "WHERE\n",
    "    lpep_pickup_datetime >= '2020-01-01 00:00:00'\n",
    "GROUP BY\n",
    "    1, 2\n",
    "ORDER BY\n",
    "    1, 2\n",
    "\"\"\")\n",
    "\n",
    "# display the query results\n",
    "df_green_revenue.show()"
   ]
  },
  {
   "cell_type": "markdown",
   "metadata": {},
   "source": [
    "### Joins\n",
    "\n",
    "#### join two large tables"
   ]
  },
  {
   "cell_type": "code",
   "execution_count": 9,
   "metadata": {},
   "outputs": [],
   "source": [
    "# read green and yellow revenue report parquet files\n",
    "df_green_revenue = spark.read.parquet('data/report/revenue/green')\n",
    "df_yellow_revenue = spark.read.parquet('data/report/revenue/yellow')"
   ]
  },
  {
   "cell_type": "code",
   "execution_count": 10,
   "metadata": {},
   "outputs": [],
   "source": [
    "# add the service type as a prefix to 'amount' and 'number_records' fields in both dataframes\n",
    "df_green_revenue_tmp = df_green_revenue \\\n",
    "    .withColumnRenamed('amount', 'green_amount') \\\n",
    "    .withColumnRenamed('number_records', 'green_number_records')\n",
    "\n",
    "df_yellow_revenue_tmp = df_yellow_revenue \\\n",
    "    .withColumnRenamed('amount', 'yellow_amount') \\\n",
    "    .withColumnRenamed('number_records', 'yellow_number_records')"
   ]
  },
  {
   "cell_type": "code",
   "execution_count": 11,
   "metadata": {},
   "outputs": [],
   "source": [
    "# join both the dataframes on 'hour' and 'zone' fields\n",
    "df_join = df_green_revenue_tmp.join(df_yellow_revenue_tmp, on=['hour', 'zone'], how='outer')"
   ]
  },
  {
   "cell_type": "code",
   "execution_count": 12,
   "metadata": {},
   "outputs": [
    {
     "name": "stdout",
     "output_type": "stream",
     "text": [
      "+-------------------+----+------------------+--------------------+------------------+---------------------+\n",
      "|               hour|zone|      green_amount|green_number_records|     yellow_amount|yellow_number_records|\n",
      "+-------------------+----+------------------+--------------------+------------------+---------------------+\n",
      "|2020-01-01 00:00:00|  36|295.34000000000003|                  11|            109.17|                    3|\n",
      "|2020-01-01 00:00:00|  43|107.52000000000001|                   6|  6539.51000000001|                  390|\n",
      "|2020-01-01 00:00:00|  68|              NULL|                NULL| 7825.070000000012|                  396|\n",
      "|2020-01-01 00:00:00|  83|              94.1|                   7|               9.8|                    1|\n",
      "|2020-01-01 00:00:00| 145|             65.14|                   4|            365.87|                   18|\n",
      "|2020-01-01 00:00:00| 148|              NULL|                NULL| 6790.150000000003|                  371|\n",
      "|2020-01-01 00:00:00| 159|              13.8|                   1|              58.8|                    2|\n",
      "|2020-01-01 00:00:00| 201|             77.32|                   2|              NULL|                 NULL|\n",
      "|2020-01-01 00:00:00| 202|              NULL|                NULL|              10.3|                    1|\n",
      "|2020-01-01 00:00:00| 235|41.900000000000006|                   3|              11.8|                    1|\n",
      "|2020-01-01 00:00:00| 247|117.66000000000001|                   5|               9.3|                    1|\n",
      "|2020-01-01 00:00:00| 261|              NULL|                NULL|1013.9400000000003|                   51|\n",
      "|2020-01-01 01:00:00|  36|192.41000000000003|                   9|            519.38|                   20|\n",
      "|2020-01-01 01:00:00|  45|              NULL|                NULL|            898.44|                   49|\n",
      "|2020-01-01 01:00:00|  53|              4.94|                   1|              NULL|                 NULL|\n",
      "|2020-01-01 01:00:00|  79|              NULL|                NULL|14009.380000000034|                  727|\n",
      "|2020-01-01 01:00:00|  90|              NULL|                NULL| 4326.069999999999|                  231|\n",
      "|2020-01-01 01:00:00| 101|              30.3|                   1|              NULL|                 NULL|\n",
      "|2020-01-01 01:00:00| 114|              NULL|                NULL| 3159.419999999999|                  164|\n",
      "|2020-01-01 01:00:00| 183|              27.0|                   1|             24.21|                    1|\n",
      "+-------------------+----+------------------+--------------------+------------------+---------------------+\n",
      "only showing top 20 rows\n",
      "\n"
     ]
    }
   ],
   "source": [
    "# display the joined dataframe\n",
    "df_join.show()"
   ]
  },
  {
   "cell_type": "code",
   "execution_count": 13,
   "metadata": {},
   "outputs": [],
   "source": [
    "# save the joined dataset as parquet file\n",
    "df_join.write.parquet('data/report/revenue/total', mode='overwrite')"
   ]
  },
  {
   "cell_type": "markdown",
   "metadata": {},
   "source": [
    "#### join a large dataframe with a small dataframe"
   ]
  },
  {
   "cell_type": "code",
   "execution_count": 14,
   "metadata": {},
   "outputs": [],
   "source": [
    "# read joined revenue report\n",
    "df_join = spark.read.parquet('data/report/revenue/total')"
   ]
  },
  {
   "cell_type": "code",
   "execution_count": 15,
   "metadata": {},
   "outputs": [
    {
     "data": {
      "text/plain": [
       "DataFrame[hour: timestamp, zone: int, green_amount: double, green_number_records: bigint, yellow_amount: double, yellow_number_records: bigint]"
      ]
     },
     "execution_count": 15,
     "metadata": {},
     "output_type": "execute_result"
    }
   ],
   "source": [
    "# display the schema of the dataframe\n",
    "df_join"
   ]
  },
  {
   "cell_type": "code",
   "execution_count": 16,
   "metadata": {},
   "outputs": [],
   "source": [
    "# read taxi zones data\n",
    "df_zones = spark.read.parquet('data/zones/')"
   ]
  },
  {
   "cell_type": "code",
   "execution_count": 17,
   "metadata": {},
   "outputs": [
    {
     "name": "stdout",
     "output_type": "stream",
     "text": [
      "+----------+-------------+--------------------+------------+\n",
      "|LocationID|      Borough|                Zone|service_zone|\n",
      "+----------+-------------+--------------------+------------+\n",
      "|         1|          EWR|      Newark Airport|         EWR|\n",
      "|         2|       Queens|         Jamaica Bay|   Boro Zone|\n",
      "|         3|        Bronx|Allerton/Pelham G...|   Boro Zone|\n",
      "|         4|    Manhattan|       Alphabet City| Yellow Zone|\n",
      "|         5|Staten Island|       Arden Heights|   Boro Zone|\n",
      "|         6|Staten Island|Arrochar/Fort Wad...|   Boro Zone|\n",
      "|         7|       Queens|             Astoria|   Boro Zone|\n",
      "|         8|       Queens|        Astoria Park|   Boro Zone|\n",
      "|         9|       Queens|          Auburndale|   Boro Zone|\n",
      "|        10|       Queens|        Baisley Park|   Boro Zone|\n",
      "|        11|     Brooklyn|          Bath Beach|   Boro Zone|\n",
      "|        12|    Manhattan|        Battery Park| Yellow Zone|\n",
      "|        13|    Manhattan|   Battery Park City| Yellow Zone|\n",
      "|        14|     Brooklyn|           Bay Ridge|   Boro Zone|\n",
      "|        15|       Queens|Bay Terrace/Fort ...|   Boro Zone|\n",
      "|        16|       Queens|             Bayside|   Boro Zone|\n",
      "|        17|     Brooklyn|             Bedford|   Boro Zone|\n",
      "|        18|        Bronx|        Bedford Park|   Boro Zone|\n",
      "|        19|       Queens|           Bellerose|   Boro Zone|\n",
      "|        20|        Bronx|             Belmont|   Boro Zone|\n",
      "+----------+-------------+--------------------+------------+\n",
      "only showing top 20 rows\n",
      "\n"
     ]
    }
   ],
   "source": [
    "df_zones.show()"
   ]
  },
  {
   "cell_type": "code",
   "execution_count": 18,
   "metadata": {},
   "outputs": [],
   "source": [
    "df_result = df_join.join(df_zones, df_join.zone == df_zones.LocationID)"
   ]
  },
  {
   "cell_type": "code",
   "execution_count": 19,
   "metadata": {},
   "outputs": [
    {
     "name": "stdout",
     "output_type": "stream",
     "text": [
      "+-------------------+------------------+--------------------+------------------+---------------------+---------+------------+\n",
      "|               hour|      green_amount|green_number_records|     yellow_amount|yellow_number_records|  Borough|service_zone|\n",
      "+-------------------+------------------+--------------------+------------------+---------------------+---------+------------+\n",
      "|2020-01-01 00:00:00| 769.7299999999997|                  45| 455.1700000000001|                   38|   Queens|   Boro Zone|\n",
      "|2020-01-01 00:00:00|              NULL|                NULL|             42.41|                    2|   Queens|   Boro Zone|\n",
      "|2020-01-01 00:00:00|              NULL|                NULL|              19.3|                    1| Brooklyn|   Boro Zone|\n",
      "|2020-01-01 00:00:00|175.67000000000002|                   6|161.60999999999999|                    7| Brooklyn|   Boro Zone|\n",
      "|2020-01-01 00:00:00| 98.78999999999999|                   2|              NULL|                 NULL|   Queens|   Boro Zone|\n",
      "|2020-01-01 00:00:00|            160.04|                   6|57.620000000000005|                    2|    Bronx|   Boro Zone|\n",
      "|2020-01-01 00:00:00|              NULL|                NULL| 2456.669999999999|                  112|Manhattan| Yellow Zone|\n",
      "|2020-01-01 00:00:00|              NULL|                NULL| 823.8000000000002|                   36|Manhattan| Yellow Zone|\n",
      "|2020-01-01 00:00:00|              NULL|                NULL|            210.28|                    3|   Queens|   Boro Zone|\n",
      "|2020-01-01 00:00:00|              NULL|                NULL| 473.6700000000001|                   24|Manhattan| Yellow Zone|\n",
      "|2020-01-01 00:00:00|             34.17|                   2|              NULL|                 NULL| Brooklyn|   Boro Zone|\n",
      "|2020-01-01 00:00:00|              NULL|                NULL| 2745.879999999999|                   72|   Queens|    Airports|\n",
      "|2020-01-01 00:00:00|              NULL|                NULL| 4622.289999999999|                  268|Manhattan| Yellow Zone|\n",
      "|2020-01-01 00:00:00|              NULL|                NULL|           5448.93|                  292|Manhattan| Yellow Zone|\n",
      "|2020-01-01 00:00:00|              18.1|                   2|              NULL|                 NULL| Brooklyn|   Boro Zone|\n",
      "|2020-01-01 00:00:00|            546.36|                  18|             36.11|                    1|   Queens|   Boro Zone|\n",
      "|2020-01-01 00:00:00|              NULL|                NULL| 7890.140000000016|                  464|Manhattan| Yellow Zone|\n",
      "|2020-01-01 00:00:00|              NULL|                NULL| 4599.189999999999|                  219|Manhattan| Yellow Zone|\n",
      "|2020-01-01 00:00:00| 296.6200000000001|                  13|            451.51|                   22| Brooklyn|   Boro Zone|\n",
      "|2020-01-01 01:00:00|              NULL|                NULL|2288.6999999999994|                  114|Manhattan| Yellow Zone|\n",
      "+-------------------+------------------+--------------------+------------------+---------------------+---------+------------+\n",
      "only showing top 20 rows\n",
      "\n"
     ]
    }
   ],
   "source": [
    "df_result.drop('LocationID', 'zone').show()"
   ]
  },
  {
   "cell_type": "code",
   "execution_count": 21,
   "metadata": {},
   "outputs": [],
   "source": [
    "df_result.drop('LocationID', 'zone').write.parquet('data/tmp/revenue-zones', mode='overwrite')"
   ]
  },
  {
   "cell_type": "code",
   "execution_count": null,
   "metadata": {},
   "outputs": [],
   "source": []
  }
 ],
 "metadata": {
  "kernelspec": {
   "display_name": "data-engineering-zoomcamp-erqhPacM",
   "language": "python",
   "name": "python3"
  },
  "language_info": {
   "codemirror_mode": {
    "name": "ipython",
    "version": 3
   },
   "file_extension": ".py",
   "mimetype": "text/x-python",
   "name": "python",
   "nbconvert_exporter": "python",
   "pygments_lexer": "ipython3",
   "version": "3.12.0"
  }
 },
 "nbformat": 4,
 "nbformat_minor": 2
}
