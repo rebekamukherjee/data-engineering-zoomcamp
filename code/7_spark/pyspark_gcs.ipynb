{
 "cells": [
  {
   "cell_type": "code",
   "execution_count": 1,
   "metadata": {},
   "outputs": [],
   "source": [
    "# import libraries\n",
    "from pyspark.sql import SparkSession\n",
    "from pyspark.conf import SparkConf\n",
    "from pyspark.context import SparkContext"
   ]
  },
  {
   "cell_type": "code",
   "execution_count": 2,
   "metadata": {},
   "outputs": [],
   "source": [
    "# configure Spark by creating a configuration object\n",
    "credentials_location = 'C:/Users/rebek/.google/credentials/google_credentials.json'\n",
    "\n",
    "conf = SparkConf() \\\n",
    "    .setMaster('local[*]') \\\n",
    "    .setAppName('test') \\\n",
    "    .set(\"spark.jars\", \"./lib/gcs-connector-hadoop3-2.2.5.jar\") \\\n",
    "    .set(\"spark.hadoop.google.cloud.auth.service.account.enable\", \"true\") \\\n",
    "    .set(\"spark.hadoop.google.cloud.auth.service.account.json.keyfile\", credentials_location)"
   ]
  },
  {
   "cell_type": "code",
   "execution_count": 3,
   "metadata": {},
   "outputs": [],
   "source": [
    "# create and configure the spark context\n",
    "sc = SparkContext(conf=conf)\n",
    "\n",
    "hadoop_conf = sc._jsc.hadoopConfiguration()\n",
    "\n",
    "hadoop_conf.set(\"fs.AbstractFileSystem.gs.impl\",  \"com.google.cloud.hadoop.fs.gcs.GoogleHadoopFS\")\n",
    "hadoop_conf.set(\"fs.gs.impl\", \"com.google.cloud.hadoop.fs.gcs.GoogleHadoopFileSystem\")\n",
    "hadoop_conf.set(\"fs.gs.auth.service.account.json.keyfile\", credentials_location)\n",
    "hadoop_conf.set(\"fs.gs.auth.service.account.enable\", \"true\")"
   ]
  },
  {
   "cell_type": "code",
   "execution_count": 4,
   "metadata": {},
   "outputs": [],
   "source": [
    "# instantiate a spark session\n",
    "spark = SparkSession.builder \\\n",
    "    .config(conf=sc.getConf()) \\\n",
    "    .getOrCreate()"
   ]
  },
  {
   "cell_type": "code",
   "execution_count": 6,
   "metadata": {},
   "outputs": [],
   "source": [
    "# read parquet files from the data lake into a spark dataframe\n",
    "df_green = spark.read.parquet('gs://mage-zoomcamp-rebekam/pq/green/*/*')"
   ]
  },
  {
   "cell_type": "code",
   "execution_count": 7,
   "metadata": {},
   "outputs": [
    {
     "name": "stdout",
     "output_type": "stream",
     "text": [
      "+--------+--------------------+---------------------+------------------+----------+------------+------------+---------------+-------------+-----------+-----+-------+----------+------------+---------+---------------------+------------+------------+---------+--------------------+\n",
      "|VendorID|lpep_pickup_datetime|lpep_dropoff_datetime|store_and_fwd_flag|RatecodeID|PULocationID|DOLocationID|passenger_count|trip_distance|fare_amount|extra|mta_tax|tip_amount|tolls_amount|ehail_fee|improvement_surcharge|total_amount|payment_type|trip_type|congestion_surcharge|\n",
      "+--------+--------------------+---------------------+------------------+----------+------------+------------+---------------+-------------+-----------+-----+-------+----------+------------+---------+---------------------+------------+------------+---------+--------------------+\n",
      "|       2| 2020-01-22 16:17:49|  2020-01-22 16:41:43|                 N|         1|          25|         125|              1|         3.69|       17.5|  1.0|    0.5|      4.41|         0.0|     NULL|                  0.3|       26.46|           1|        1|                2.75|\n",
      "|    NULL| 2020-01-29 13:59:00|  2020-01-29 14:25:00|              NULL|      NULL|         223|          73|           NULL|         7.36|       30.3| 2.75|    0.5|       0.0|         0.0|     NULL|                  0.3|       33.85|        NULL|     NULL|                NULL|\n",
      "|       2| 2020-01-09 21:09:23|  2020-01-09 21:22:48|                 N|         1|          33|         181|              1|         2.06|       10.5|  0.5|    0.5|       0.0|         0.0|     NULL|                  0.3|        11.8|           2|        1|                 0.0|\n",
      "|    NULL| 2020-01-02 12:20:00|  2020-01-02 12:59:00|              NULL|      NULL|          26|          35|           NULL|         5.73|      34.13| 2.75|    0.5|       0.0|         0.0|     NULL|                  0.3|       37.68|        NULL|     NULL|                NULL|\n",
      "|       2| 2020-01-15 15:17:00|  2020-01-15 15:24:43|                 N|         1|          41|         152|              1|         0.94|        7.0|  0.0|    0.5|       0.0|         0.0|     NULL|                  0.3|         7.8|           2|        1|                 0.0|\n",
      "|       1| 2020-01-26 17:06:29|  2020-01-26 17:11:13|                 N|         1|         116|         152|              1|          1.0|        5.5|  1.0|    0.5|       0.0|         0.0|     NULL|                  0.3|         7.3|           2|        1|                 0.0|\n",
      "|       2| 2020-01-16 00:37:59|  2020-01-16 00:40:48|                 N|         1|           7|           7|              1|         0.54|       -4.0| -0.5|   -0.5|       0.0|         0.0|     NULL|                 -0.3|        -5.3|           3|        1|                 0.0|\n",
      "|       1| 2020-01-02 12:07:43|  2020-01-02 12:15:51|                 N|         1|          42|         116|              1|          1.4|        7.5|  0.0|    0.5|       0.0|         0.0|     NULL|                  0.3|         8.3|           2|        1|                 0.0|\n",
      "|       2| 2020-01-25 19:11:38|  2020-01-25 19:21:19|                 N|         1|          92|          82|              1|         4.06|       13.5|  0.0|    0.5|       0.0|         0.0|     NULL|                  0.3|        14.3|           2|        1|                 0.0|\n",
      "|       2| 2020-01-02 16:30:32|  2020-01-02 16:42:57|                 N|         1|          97|          49|              1|         1.56|        9.5|  1.0|    0.5|       2.0|         0.0|     NULL|                  0.3|        13.3|           1|        1|                 0.0|\n",
      "|       2| 2020-01-29 14:31:19|  2020-01-29 14:37:47|                 N|         1|          25|          33|              5|         0.71|        6.0|  0.0|    0.5|       0.0|         0.0|     NULL|                  0.3|         6.8|           2|        1|                 0.0|\n",
      "|       2| 2020-01-20 10:12:39|  2020-01-20 10:24:55|                 N|         1|          41|         161|              1|         3.51|       12.5|  0.0|    0.5|      3.21|         0.0|     NULL|                  0.3|       19.26|           1|        1|                2.75|\n",
      "|       2| 2020-01-28 18:54:09|  2020-01-28 19:02:43|                 N|         1|          49|         181|              1|         1.63|        8.0|  1.0|    0.5|      1.96|         0.0|     NULL|                  0.3|       11.76|           1|        1|                 0.0|\n",
      "|       1| 2020-01-16 19:19:44|  2020-01-16 19:27:50|                 N|         1|          65|         264|              1|          0.8|        7.0|  1.0|    0.5|       2.0|         0.0|     NULL|                  0.3|        10.8|           1|        1|                 0.0|\n",
      "|       2| 2020-01-03 16:47:41|  2020-01-04 00:00:00|                 N|         1|          82|          82|              1|         1.48|        8.5|  1.0|    0.5|       0.0|         0.0|     NULL|                  0.3|        10.3|           2|        1|                 0.0|\n",
      "|       2| 2020-01-30 23:32:29|  2020-01-30 23:59:22|                 N|         1|         179|          89|              1|        15.54|       42.5|  0.5|    0.5|     10.95|         0.0|     NULL|                  0.3|       54.75|           1|        1|                 0.0|\n",
      "|       2| 2020-01-26 10:45:30|  2020-01-26 11:01:49|                 N|         1|          74|         141|              2|         3.13|       13.5|  0.0|    0.5|       0.0|         0.0|     NULL|                  0.3|       17.05|           2|        1|                2.75|\n",
      "|       2| 2020-01-05 12:39:11|  2020-01-05 12:39:52|                 N|         1|          75|          75|              1|         0.08|        2.5|  0.0|    0.5|       0.0|         0.0|     NULL|                  0.3|         3.3|           2|        1|                 0.0|\n",
      "|    NULL| 2020-01-18 09:11:00|  2020-01-18 09:18:00|              NULL|      NULL|          74|         263|           NULL|         2.12|      22.45| 2.75|    0.0|       0.0|         0.0|     NULL|                  0.3|        25.5|        NULL|     NULL|                NULL|\n",
      "|       2| 2020-01-26 01:31:25|  2020-01-26 01:43:08|                 N|         1|         256|          37|              2|         2.59|       10.5|  0.5|    0.5|       1.2|         0.0|     NULL|                  0.3|        13.0|           1|        1|                 0.0|\n",
      "+--------+--------------------+---------------------+------------------+----------+------------+------------+---------------+-------------+-----------+-----+-------+----------+------------+---------+---------------------+------------+------------+---------+--------------------+\n",
      "only showing top 20 rows\n",
      "\n"
     ]
    }
   ],
   "source": [
    "# display the spark dataframe\n",
    "df_green.show()"
   ]
  },
  {
   "cell_type": "code",
   "execution_count": 8,
   "metadata": {},
   "outputs": [
    {
     "data": {
      "text/plain": [
       "2304517"
      ]
     },
     "execution_count": 8,
     "metadata": {},
     "output_type": "execute_result"
    }
   ],
   "source": [
    "df_green.count()"
   ]
  },
  {
   "cell_type": "code",
   "execution_count": null,
   "metadata": {},
   "outputs": [],
   "source": []
  }
 ],
 "metadata": {
  "kernelspec": {
   "display_name": "data-engineering-zoomcamp-erqhPacM",
   "language": "python",
   "name": "python3"
  },
  "language_info": {
   "codemirror_mode": {
    "name": "ipython",
    "version": 3
   },
   "file_extension": ".py",
   "mimetype": "text/x-python",
   "name": "python",
   "nbconvert_exporter": "python",
   "pygments_lexer": "ipython3",
   "version": "3.12.0"
  }
 },
 "nbformat": 4,
 "nbformat_minor": 2
}
